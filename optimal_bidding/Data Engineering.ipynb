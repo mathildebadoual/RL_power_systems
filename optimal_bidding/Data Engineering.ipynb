{
 "cells": [
  {
   "cell_type": "code",
   "execution_count": 1,
   "metadata": {},
   "outputs": [],
   "source": [
    "import pandas as pd\n",
    "import csv\n",
    "import numpy as np\n",
    "from os import listdir\n",
    "from os.path import isfile, join\n",
    "import os\n",
    "import warnings\n",
    "import json\n",
    "from utils.data_postprocess import TransitionMap"
   ]
  },
  {
   "cell_type": "code",
   "execution_count": 2,
   "metadata": {},
   "outputs": [],
   "source": [
    "tmap = TransitionMap(\"/home/jpalaks/research/optimal_bidding/optimal_bidding/static/consolidated_data/June2018_30min.csv\")"
   ]
  },
  {
   "cell_type": "code",
   "execution_count": 20,
   "metadata": {},
   "outputs": [
    {
     "name": "stdout",
     "output_type": "stream",
     "text": [
      "{90.0: 3232, 110.0: 1732, 80.0: 3353, 100.0: 1683}\n"
     ]
    }
   ],
   "source": [
    "temp = tmap.get_transition_map_hour(2)\n",
    "probs = {}\n",
    "for i in range(10000):\n",
    "    temp2 = tmap.get_next_state(current_state=90, hour=2)\n",
    "    if temp2 in probs:\n",
    "        probs[temp2] +=1\n",
    "    else:\n",
    "        probs[temp2] = 1\n",
    "print(probs)"
   ]
  },
  {
   "cell_type": "code",
   "execution_count": 4,
   "metadata": {},
   "outputs": [
    {
     "name": "stdout",
     "output_type": "stream",
     "text": [
      "{110.0: {130.0: 0.14285714285714285, 90.0: 0.14285714285714285, 100.0: 0.42857142857142855, 110.0: 0.2857142857142857}, 130.0: {80.0: 0.2, 90.0: 0.2, 130.0: 0.4, 110.0: 0.2}, 90.0: {100.0: 0.16666666666666666, 110.0: 0.16666666666666666, 90.0: 0.3333333333333333, 80.0: 0.3333333333333333}, 100.0: {90.0: 0.3333333333333333, 100.0: 0.6666666666666666}, 50.0: {50.0: 0.45454545454545453, 40.0: 0.45454545454545453, 60.0: 0.09090909090909091}, 0.0: {-0.0: 0.5, 20.0: 0.5}, 120.0: {110.0: 0.5, 130.0: 0.5}, 80.0: {90.0: 0.16666666666666666, 80.0: 0.5, 70.0: 0.3333333333333333}, 40.0: {40.0: 0.5, 30.0: 0.25, 50.0: 0.25}, 60.0: {50.0: 0.5, 40.0: 0.16666666666666666, 60.0: 0.3333333333333333}, 70.0: {60.0: 1.0}, 150.0: {150.0: 1.0}, 140.0: {140.0: 0.3333333333333333, 130.0: 0.6666666666666666}}\n"
     ]
    }
   ],
   "source": [
    "print(temp)"
   ]
  },
  {
   "cell_type": "code",
   "execution_count": null,
   "metadata": {},
   "outputs": [],
   "source": []
  }
 ],
 "metadata": {
  "kernelspec": {
   "display_name": "Python for Research",
   "language": "python",
   "name": "research"
  },
  "language_info": {
   "codemirror_mode": {
    "name": "ipython",
    "version": 3
   },
   "file_extension": ".py",
   "mimetype": "text/x-python",
   "name": "python",
   "nbconvert_exporter": "python",
   "pygments_lexer": "ipython3",
   "version": "3.7.4"
  }
 },
 "nbformat": 4,
 "nbformat_minor": 2
}
